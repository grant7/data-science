{
  "metadata": {
    "kernelspec": {
      "name": "python",
      "display_name": "Python (Pyodide)",
      "language": "python"
    },
    "language_info": {
      "codemirror_mode": {
        "name": "python",
        "version": 3
      },
      "file_extension": ".py",
      "mimetype": "text/x-python",
      "name": "python",
      "nbconvert_exporter": "python",
      "pygments_lexer": "ipython3",
      "version": "3.8"
    }
  },
  "nbformat_minor": 5,
  "nbformat": 4,
  "cells": [
    {
      "id": "9c03acd1-face-4a9a-a6d5-28c14d82510f",
      "cell_type": "markdown",
      "source": "# Data Science Tools and Ecosystem",
      "metadata": {}
    },
    {
      "id": "6aedabdd-7c13-402c-8c2f-8bd29d958476",
      "cell_type": "markdown",
      "source": "In this notebook, Data Science Tools and Ecosystem are summarized.",
      "metadata": {}
    },
    {
      "id": "6b6f53fa-d954-4c1c-88a1-e25cab35eb09",
      "cell_type": "markdown",
      "source": "**Objectives:**\n\n- Python\n- R\n- Scala",
      "metadata": {}
    },
    {
      "id": "84120196-4b9a-46ef-ba8c-39fa2fdce77b",
      "cell_type": "markdown",
      "source": "## Author\nGrant Meiresonne",
      "metadata": {}
    },
    {
      "id": "711d4a49-4b6c-492d-9e33-03ade626621c",
      "cell_type": "markdown",
      "source": "Some of the popular languages that Data Scientists use are:\n\n1. Python\n2. R\n3. Scala\n",
      "metadata": {
        "jp-MarkdownHeadingCollapsed": true
      }
    },
    {
      "id": "e2369325-72a4-4341-ae46-a18ab5c7d12c",
      "cell_type": "markdown",
      "source": "Some of the commonly used libraries used by Data Scientists include:\n1. NumPy\n2. Pandas\n3. Matplotlib\n",
      "metadata": {}
    },
    {
      "id": "bba34a3d-a477-45f4-b2e5-108c7f488773",
      "cell_type": "markdown",
      "source": "| Data Science Tools |\n|--------------------|\n| Jupyter Notebook |\n| R Studio |\n| Spyder |\n\n",
      "metadata": {}
    },
    {
      "id": "e75026a8-4eb6-4968-9f9d-f5b9f385d371",
      "cell_type": "markdown",
      "source": "### Below are a few examples of evaluating arithmetic expressions in Python.\n\n",
      "metadata": {}
    },
    {
      "id": "ed81360a-1cc8-4a5e-a4a5-569115850bbc",
      "cell_type": "code",
      "source": "(3*4)+5",
      "metadata": {
        "trusted": true
      },
      "outputs": [
        {
          "execution_count": 11,
          "output_type": "execute_result",
          "data": {
            "text/plain": "17"
          },
          "metadata": {}
        }
      ],
      "execution_count": 11
    },
    {
      "id": "91a03cc6-fb45-4cd9-9c16-30a2add6ab05",
      "cell_type": "code",
      "source": "#This will convert 200 minutes to hours by diving by 60\n\n200/60\n",
      "metadata": {
        "trusted": true
      },
      "outputs": [
        {
          "execution_count": 13,
          "output_type": "execute_result",
          "data": {
            "text/plain": "3.3333333333333335"
          },
          "metadata": {}
        }
      ],
      "execution_count": 13
    },
    {
      "id": "04361235-f77b-4e23-99da-7ad280db54cd",
      "cell_type": "code",
      "source": "",
      "metadata": {
        "trusted": true
      },
      "outputs": [],
      "execution_count": null
    }
  ]
}